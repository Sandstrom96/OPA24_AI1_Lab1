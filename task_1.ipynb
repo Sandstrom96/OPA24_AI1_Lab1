{
 "cells": [
  {
   "cell_type": "markdown",
   "metadata": {},
   "source": [
    "## Task 1\n",
    "You are given several simplified sequences of DNA codes*. Your task is to count the number of different\n",
    "DNA letters in each sequence. In reality, this is an essential step for scientists to understand the genetic\n",
    "information from the human cell.  \n",
    "Following the instructions below:\n",
    "- read the text file called dna_raw.txt\n",
    "    - each sequene is composed of two lines of data: the first line beginning with > sign is the\n",
    "      sequence ID, while the following line is the actual sequence\n",
    "    - the actual sequence is not case-sensitive, which means that lower and upper case letters are\n",
    "      treated the same\n",
    "- for each sequence, create a dictionary to count the number of each DNA letter in that sequence\n",
    "- for each sequence, graph the frequency of DNA letters for each sequence"
   ]
  },
  {
   "cell_type": "code",
   "execution_count": null,
   "metadata": {
    "vscode": {
     "languageId": "plaintext"
    }
   },
   "outputs": [],
   "source": []
  }
 ],
 "metadata": {
  "language_info": {
   "name": "python"
  }
 },
 "nbformat": 4,
 "nbformat_minor": 2
}
